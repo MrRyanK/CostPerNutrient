{
 "cells": [
  {
   "cell_type": "code",
   "execution_count": 1,
   "id": "edddb8de",
   "metadata": {},
   "outputs": [],
   "source": [
    "import requests"
   ]
  },
  {
   "cell_type": "code",
   "execution_count": 2,
   "id": "9525b6fe",
   "metadata": {},
   "outputs": [
    {
     "name": "stdout",
     "output_type": "stream",
     "text": [
      "Protein: 12.5 G\n",
      "Total lipid (fat): 6.25 G\n",
      "Carbohydrate, by difference: 40.6 G\n",
      "Energy: 312 KCAL\n",
      "Sugars, total including NLEA: 6.25 G\n",
      "Fiber, total dietary: 6.2 G\n",
      "Calcium, Ca: 125 MG\n",
      "Iron, Fe: 1.12 MG\n",
      "Sodium, Na: 594 MG\n",
      "Vitamin A, IU: 0.0 IU\n",
      "Vitamin C, total ascorbic acid: 15.0 MG\n",
      "Cholesterol: 0.0 MG\n",
      "Fatty acids, total trans: 0.0 G\n",
      "Fatty acids, total saturated: 0.0 G\n",
      "Fatty acids, total monounsaturated: 3.12 G\n",
      "Fatty acids, total polyunsaturated: 3.12 G\n"
     ]
    }
   ],
   "source": [
    "def get_nutrient_info(food_name):\n",
    "    # API endpoint URL\n",
    "    url = f\"https://api.nal.usda.gov/fdc/v1/foods/search?query={food_name}&api_key=CpzD0TamyJwY0xcl8kiOPtBCporLdIG966PYAUSu\"\n",
    "\n",
    "    # Send GET request to the API\n",
    "    response = requests.get(url)\n",
    "\n",
    "    # Check if the request was successful\n",
    "    if response.status_code == 200:\n",
    "        # Extract the nutrient information from the response\n",
    "        data = response.json()\n",
    "        \n",
    "        # Access the nutrient details for the first food item in the search results\n",
    "        first_food = data['foods'][0]\n",
    "        nutrient_info = first_food['foodNutrients']\n",
    "        \n",
    "        # Print the nutrient information\n",
    "        for nutrient in nutrient_info:\n",
    "            print(f\"{nutrient['nutrientName']}: {nutrient['value']} {nutrient['unitName']}\")\n",
    "    else:\n",
    "        print(\"An error occurred while retrieving nutrient information.\")\n",
    "\n",
    "# Call the function and pass the desired food item\n",
    "get_nutrient_info(\"banana\")"
   ]
  },
  {
   "cell_type": "code",
   "execution_count": 3,
   "id": "0957814c",
   "metadata": {},
   "outputs": [
    {
     "name": "stdout",
     "output_type": "stream",
     "text": [
      "Protein: 12.5 G\n",
      "Total lipid (fat): 6.25 G\n",
      "Carbohydrate, by difference: 40.6 G\n",
      "Energy: 312 KCAL\n",
      "Sugars, total including NLEA: 6.25 G\n",
      "Fiber, total dietary: 6.2 G\n",
      "Calcium, Ca: 125 MG\n",
      "Iron, Fe: 1.12 MG\n",
      "Sodium, Na: 594 MG\n",
      "Vitamin A, IU: 0.0 IU\n",
      "Vitamin C, total ascorbic acid: 15.0 MG\n",
      "Cholesterol: 0.0 MG\n",
      "Fatty acids, total trans: 0.0 G\n",
      "Fatty acids, total saturated: 0.0 G\n",
      "Fatty acids, total monounsaturated: 3.12 G\n",
      "Fatty acids, total polyunsaturated: 3.12 G\n"
     ]
    }
   ],
   "source": [
    "food_name = 'banana'\n",
    "\n",
    "# API endpoint URL\n",
    "url = f\"https://api.nal.usda.gov/fdc/v1/foods/search?query={food_name}&api_key=CpzD0TamyJwY0xcl8kiOPtBCporLdIG966PYAUSu\"\n",
    "\n",
    "# Send GET request to the API\n",
    "response = requests.get(url)\n",
    "\n",
    "# Check if the request was successful\n",
    "if response.status_code == 200:\n",
    "    # Extract the nutrient information from the response\n",
    "    data = response.json()\n",
    "\n",
    "    # Access the nutrient details for the first food item in the search results\n",
    "    first_food = data['foods'][0]\n",
    "    nutrient_info = first_food['foodNutrients']\n",
    "\n",
    "    # Print the nutrient information\n",
    "    for nutrient in nutrient_info:\n",
    "        print(f\"{nutrient['nutrientName']}: {nutrient['value']} {nutrient['unitName']}\")\n",
    "else:\n",
    "    print(\"An error occurred while retrieving nutrient information.\")"
   ]
  },
  {
   "cell_type": "code",
   "execution_count": 4,
   "id": "e1902531",
   "metadata": {},
   "outputs": [],
   "source": [
    "import pandas as pd\n",
    "import numpy as np"
   ]
  },
  {
   "cell_type": "code",
   "execution_count": 5,
   "id": "fd371274",
   "metadata": {},
   "outputs": [
    {
     "ename": "ValueError",
     "evalue": "All arrays must be of the same length",
     "output_type": "error",
     "traceback": [
      "\u001b[0;31m---------------------------------------------------------------------------\u001b[0m",
      "\u001b[0;31mValueError\u001b[0m                                Traceback (most recent call last)",
      "\u001b[0;32m/var/folders/l8/tbybt_pn2j3_tzq2f_xysh340000gp/T/ipykernel_15625/1923510999.py\u001b[0m in \u001b[0;36m<module>\u001b[0;34m\u001b[0m\n\u001b[0;32m----> 1\u001b[0;31m \u001b[0mdf\u001b[0m \u001b[0;34m=\u001b[0m \u001b[0mpd\u001b[0m\u001b[0;34m.\u001b[0m\u001b[0mDataFrame\u001b[0m\u001b[0;34m(\u001b[0m\u001b[0mdata\u001b[0m\u001b[0;34m)\u001b[0m\u001b[0;34m\u001b[0m\u001b[0;34m\u001b[0m\u001b[0m\n\u001b[0m",
      "\u001b[0;32m~/opt/anaconda3/lib/python3.9/site-packages/pandas/core/frame.py\u001b[0m in \u001b[0;36m__init__\u001b[0;34m(self, data, index, columns, dtype, copy)\u001b[0m\n\u001b[1;32m    634\u001b[0m         \u001b[0;32melif\u001b[0m \u001b[0misinstance\u001b[0m\u001b[0;34m(\u001b[0m\u001b[0mdata\u001b[0m\u001b[0;34m,\u001b[0m \u001b[0mdict\u001b[0m\u001b[0;34m)\u001b[0m\u001b[0;34m:\u001b[0m\u001b[0;34m\u001b[0m\u001b[0;34m\u001b[0m\u001b[0m\n\u001b[1;32m    635\u001b[0m             \u001b[0;31m# GH#38939 de facto copy defaults to False only in non-dict cases\u001b[0m\u001b[0;34m\u001b[0m\u001b[0;34m\u001b[0m\u001b[0m\n\u001b[0;32m--> 636\u001b[0;31m             \u001b[0mmgr\u001b[0m \u001b[0;34m=\u001b[0m \u001b[0mdict_to_mgr\u001b[0m\u001b[0;34m(\u001b[0m\u001b[0mdata\u001b[0m\u001b[0;34m,\u001b[0m \u001b[0mindex\u001b[0m\u001b[0;34m,\u001b[0m \u001b[0mcolumns\u001b[0m\u001b[0;34m,\u001b[0m \u001b[0mdtype\u001b[0m\u001b[0;34m=\u001b[0m\u001b[0mdtype\u001b[0m\u001b[0;34m,\u001b[0m \u001b[0mcopy\u001b[0m\u001b[0;34m=\u001b[0m\u001b[0mcopy\u001b[0m\u001b[0;34m,\u001b[0m \u001b[0mtyp\u001b[0m\u001b[0;34m=\u001b[0m\u001b[0mmanager\u001b[0m\u001b[0;34m)\u001b[0m\u001b[0;34m\u001b[0m\u001b[0;34m\u001b[0m\u001b[0m\n\u001b[0m\u001b[1;32m    637\u001b[0m         \u001b[0;32melif\u001b[0m \u001b[0misinstance\u001b[0m\u001b[0;34m(\u001b[0m\u001b[0mdata\u001b[0m\u001b[0;34m,\u001b[0m \u001b[0mma\u001b[0m\u001b[0;34m.\u001b[0m\u001b[0mMaskedArray\u001b[0m\u001b[0;34m)\u001b[0m\u001b[0;34m:\u001b[0m\u001b[0;34m\u001b[0m\u001b[0;34m\u001b[0m\u001b[0m\n\u001b[1;32m    638\u001b[0m             \u001b[0;32mimport\u001b[0m \u001b[0mnumpy\u001b[0m\u001b[0;34m.\u001b[0m\u001b[0mma\u001b[0m\u001b[0;34m.\u001b[0m\u001b[0mmrecords\u001b[0m \u001b[0;32mas\u001b[0m \u001b[0mmrecords\u001b[0m\u001b[0;34m\u001b[0m\u001b[0;34m\u001b[0m\u001b[0m\n",
      "\u001b[0;32m~/opt/anaconda3/lib/python3.9/site-packages/pandas/core/internals/construction.py\u001b[0m in \u001b[0;36mdict_to_mgr\u001b[0;34m(data, index, columns, dtype, typ, copy)\u001b[0m\n\u001b[1;32m    500\u001b[0m         \u001b[0;31m# TODO: can we get rid of the dt64tz special case above?\u001b[0m\u001b[0;34m\u001b[0m\u001b[0;34m\u001b[0m\u001b[0m\n\u001b[1;32m    501\u001b[0m \u001b[0;34m\u001b[0m\u001b[0m\n\u001b[0;32m--> 502\u001b[0;31m     \u001b[0;32mreturn\u001b[0m \u001b[0marrays_to_mgr\u001b[0m\u001b[0;34m(\u001b[0m\u001b[0marrays\u001b[0m\u001b[0;34m,\u001b[0m \u001b[0mcolumns\u001b[0m\u001b[0;34m,\u001b[0m \u001b[0mindex\u001b[0m\u001b[0;34m,\u001b[0m \u001b[0mdtype\u001b[0m\u001b[0;34m=\u001b[0m\u001b[0mdtype\u001b[0m\u001b[0;34m,\u001b[0m \u001b[0mtyp\u001b[0m\u001b[0;34m=\u001b[0m\u001b[0mtyp\u001b[0m\u001b[0;34m,\u001b[0m \u001b[0mconsolidate\u001b[0m\u001b[0;34m=\u001b[0m\u001b[0mcopy\u001b[0m\u001b[0;34m)\u001b[0m\u001b[0;34m\u001b[0m\u001b[0;34m\u001b[0m\u001b[0m\n\u001b[0m\u001b[1;32m    503\u001b[0m \u001b[0;34m\u001b[0m\u001b[0m\n\u001b[1;32m    504\u001b[0m \u001b[0;34m\u001b[0m\u001b[0m\n",
      "\u001b[0;32m~/opt/anaconda3/lib/python3.9/site-packages/pandas/core/internals/construction.py\u001b[0m in \u001b[0;36marrays_to_mgr\u001b[0;34m(arrays, columns, index, dtype, verify_integrity, typ, consolidate)\u001b[0m\n\u001b[1;32m    118\u001b[0m         \u001b[0;31m# figure out the index, if necessary\u001b[0m\u001b[0;34m\u001b[0m\u001b[0;34m\u001b[0m\u001b[0m\n\u001b[1;32m    119\u001b[0m         \u001b[0;32mif\u001b[0m \u001b[0mindex\u001b[0m \u001b[0;32mis\u001b[0m \u001b[0;32mNone\u001b[0m\u001b[0;34m:\u001b[0m\u001b[0;34m\u001b[0m\u001b[0;34m\u001b[0m\u001b[0m\n\u001b[0;32m--> 120\u001b[0;31m             \u001b[0mindex\u001b[0m \u001b[0;34m=\u001b[0m \u001b[0m_extract_index\u001b[0m\u001b[0;34m(\u001b[0m\u001b[0marrays\u001b[0m\u001b[0;34m)\u001b[0m\u001b[0;34m\u001b[0m\u001b[0;34m\u001b[0m\u001b[0m\n\u001b[0m\u001b[1;32m    121\u001b[0m         \u001b[0;32melse\u001b[0m\u001b[0;34m:\u001b[0m\u001b[0;34m\u001b[0m\u001b[0;34m\u001b[0m\u001b[0m\n\u001b[1;32m    122\u001b[0m             \u001b[0mindex\u001b[0m \u001b[0;34m=\u001b[0m \u001b[0mensure_index\u001b[0m\u001b[0;34m(\u001b[0m\u001b[0mindex\u001b[0m\u001b[0;34m)\u001b[0m\u001b[0;34m\u001b[0m\u001b[0;34m\u001b[0m\u001b[0m\n",
      "\u001b[0;32m~/opt/anaconda3/lib/python3.9/site-packages/pandas/core/internals/construction.py\u001b[0m in \u001b[0;36m_extract_index\u001b[0;34m(data)\u001b[0m\n\u001b[1;32m    672\u001b[0m             \u001b[0mlengths\u001b[0m \u001b[0;34m=\u001b[0m \u001b[0mlist\u001b[0m\u001b[0;34m(\u001b[0m\u001b[0mset\u001b[0m\u001b[0;34m(\u001b[0m\u001b[0mraw_lengths\u001b[0m\u001b[0;34m)\u001b[0m\u001b[0;34m)\u001b[0m\u001b[0;34m\u001b[0m\u001b[0;34m\u001b[0m\u001b[0m\n\u001b[1;32m    673\u001b[0m             \u001b[0;32mif\u001b[0m \u001b[0mlen\u001b[0m\u001b[0;34m(\u001b[0m\u001b[0mlengths\u001b[0m\u001b[0;34m)\u001b[0m \u001b[0;34m>\u001b[0m \u001b[0;36m1\u001b[0m\u001b[0;34m:\u001b[0m\u001b[0;34m\u001b[0m\u001b[0;34m\u001b[0m\u001b[0m\n\u001b[0;32m--> 674\u001b[0;31m                 \u001b[0;32mraise\u001b[0m \u001b[0mValueError\u001b[0m\u001b[0;34m(\u001b[0m\u001b[0;34m\"All arrays must be of the same length\"\u001b[0m\u001b[0;34m)\u001b[0m\u001b[0;34m\u001b[0m\u001b[0;34m\u001b[0m\u001b[0m\n\u001b[0m\u001b[1;32m    675\u001b[0m \u001b[0;34m\u001b[0m\u001b[0m\n\u001b[1;32m    676\u001b[0m             \u001b[0;32mif\u001b[0m \u001b[0mhave_dicts\u001b[0m\u001b[0;34m:\u001b[0m\u001b[0;34m\u001b[0m\u001b[0;34m\u001b[0m\u001b[0m\n",
      "\u001b[0;31mValueError\u001b[0m: All arrays must be of the same length"
     ]
    }
   ],
   "source": [
    "df = pd.DataFrame(data)"
   ]
  },
  {
   "cell_type": "code",
   "execution_count": null,
   "id": "795edd51",
   "metadata": {},
   "outputs": [],
   "source": [
    "for eachKey in data:\n",
    "    print(eachKey)"
   ]
  },
  {
   "cell_type": "code",
   "execution_count": null,
   "id": "f4503e4a",
   "metadata": {},
   "outputs": [],
   "source": [
    "len(data['foods'])"
   ]
  },
  {
   "cell_type": "code",
   "execution_count": null,
   "id": "3101cd5c",
   "metadata": {},
   "outputs": [],
   "source": [
    "for eachKey in data:\n",
    "    print(eachKey)\n",
    "    print(data[eachKey])"
   ]
  },
  {
   "cell_type": "code",
   "execution_count": null,
   "id": "b433f3cd",
   "metadata": {},
   "outputs": [],
   "source": [
    "df = pd.DataFrame(data['foods'])"
   ]
  },
  {
   "cell_type": "code",
   "execution_count": null,
   "id": "29fe43d3",
   "metadata": {},
   "outputs": [],
   "source": [
    "df"
   ]
  },
  {
   "cell_type": "code",
   "execution_count": null,
   "id": "0695df71",
   "metadata": {},
   "outputs": [],
   "source": [
    "df.size"
   ]
  },
  {
   "cell_type": "code",
   "execution_count": null,
   "id": "8b468427",
   "metadata": {},
   "outputs": [],
   "source": [
    "df.shape"
   ]
  },
  {
   "cell_type": "code",
   "execution_count": null,
   "id": "4d925a22",
   "metadata": {},
   "outputs": [],
   "source": [
    "df.iloc[3]"
   ]
  },
  {
   "cell_type": "code",
   "execution_count": null,
   "id": "43e12925",
   "metadata": {},
   "outputs": [],
   "source": [
    "df.iloc[3]['foodNutrients']"
   ]
  },
  {
   "cell_type": "code",
   "execution_count": null,
   "id": "7485aeb9",
   "metadata": {},
   "outputs": [],
   "source": [
    "nutrients = pd.DataFrame(df.iloc[3]['foodNutrients'])\n",
    "nutrients"
   ]
  },
  {
   "cell_type": "code",
   "execution_count": null,
   "id": "71d71c88",
   "metadata": {},
   "outputs": [],
   "source": [
    "url = f\"https://api.nal.usda.gov/fdc/v1/foods&api_key=CpzD0TamyJwY0xcl8kiOPtBCporLdIG966PYAUSu\"\n",
    "\n",
    "response = requests.get(url)\n",
    "\n",
    "if response.status_code == 200:\n",
    "    data = response.json()\n",
    "    df = pd.DataFrame(data['foods'])    \n",
    "    # another_df = data['foods']['foodNutrients']\n",
    "else:\n",
    "    print(\"An error occurred while retrieving nutrient information.\")\n",
    "    \n",
    "df.shape"
   ]
  },
  {
   "cell_type": "code",
   "execution_count": null,
   "id": "fa8c9ca4",
   "metadata": {},
   "outputs": [],
   "source": [
    "url = \"https://api.nal.usda.gov/fdc/v1/foods&api_key=CpzD0TamyJwY0xcl8kiOPtBCporLdIG966PYAUSu\"\n",
    "\n",
    "response = requests.get(url)\n",
    "response.status_code"
   ]
  }
 ],
 "metadata": {
  "kernelspec": {
   "display_name": "Python 3 (ipykernel)",
   "language": "python",
   "name": "python3"
  },
  "language_info": {
   "codemirror_mode": {
    "name": "ipython",
    "version": 3
   },
   "file_extension": ".py",
   "mimetype": "text/x-python",
   "name": "python",
   "nbconvert_exporter": "python",
   "pygments_lexer": "ipython3",
   "version": "3.9.13"
  }
 },
 "nbformat": 4,
 "nbformat_minor": 5
}
