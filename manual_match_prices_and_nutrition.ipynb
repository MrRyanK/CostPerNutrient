{
 "cells": [
  {
   "cell_type": "code",
   "execution_count": 1,
   "id": "4ef4b319-8d32-4229-8224-6b41f553bf48",
   "metadata": {},
   "outputs": [],
   "source": [
    "import pandas as pd"
   ]
  },
  {
   "cell_type": "code",
   "execution_count": 3,
   "id": "be93cd03-1a81-4749-ae05-b334bcc11ffe",
   "metadata": {},
   "outputs": [],
   "source": [
    "prices = pd.read_csv('prices.csv')"
   ]
  },
  {
   "cell_type": "code",
   "execution_count": 7,
   "id": "56350741-0feb-48c1-b555-f37b3b161eeb",
   "metadata": {},
   "outputs": [],
   "source": [
    "foods = pd.read_csv('nutrition.csv').drop('Unnamed: 0', axis=1)"
   ]
  },
  {
   "cell_type": "code",
   "execution_count": 253,
   "id": "9519977d-1e84-4031-b014-af689f8a34e3",
   "metadata": {},
   "outputs": [
    {
     "data": {
      "text/plain": [
       "('Acorn squash', 'Fresh')"
      ]
     },
     "execution_count": 253,
     "metadata": {},
     "output_type": "execute_result"
    }
   ],
   "source": [
    "key = tuple(prices.iloc[51,:2])\n",
    "key"
   ]
  },
  {
   "cell_type": "code",
   "execution_count": 251,
   "id": "5fcc4a95-899a-4f7e-a924-93675f36f15f",
   "metadata": {},
   "outputs": [
    {
     "data": {
      "text/plain": [
       "['Watermelon, raw']"
      ]
     },
     "execution_count": 251,
     "metadata": {},
     "output_type": "execute_result"
    }
   ],
   "source": [
    "string = \"Watermelon,\"\n",
    "\n",
    "elements = (\n",
    "    foods.query(f\"name.str.contains('{string}')\")['name'].to_list()\n",
    "    # foods.query(f\"name.str.contains('{string}') and name.str.contains(' raw')\")['name'].to_list()\n",
    "\n",
    "    # foods.query(f\"name.str.contains('{string}') and name.str.contains('frozen')\")['name'].to_list()\n",
    "\n",
    "    # foods.query(f\"name.str.contains('{string}') and name.str.contains('dehy')\")['name'].to_list()\n",
    "    # foods.query(f\"name.str.contains('{string}') and name.str.contains('dried')\")['name'].to_list()\n",
    "\n",
    "    # foods.query(f\"name.str.contains('{string}') and name.str.contains('canned')\")['name'].to_list()\n",
    "    # foods.query(f\"name.str.contains('{string}') and name.str.contains('canned') and name.str.contains('juice')\")['name'].to_list()\n",
    "    # foods.query(f\"name.str.contains('{string}') and name.str.contains('canned') and not name.str.contains('juice')\")['name'].to_list()\n",
    "\n",
    ")\n",
    "\n",
    "elements"
   ]
  },
  {
   "cell_type": "code",
   "execution_count": 252,
   "id": "f82798f8-8de7-4eb8-aafd-43aba5d099d9",
   "metadata": {},
   "outputs": [
    {
     "name": "stdout",
     "output_type": "stream",
     "text": [
      "('Watermelon', 'Fresh'):['Watermelon, raw'],\n"
     ]
    }
   ],
   "source": [
    "print(f\"{key}:{elements},\")"
   ]
  },
  {
   "cell_type": "code",
   "execution_count": 97,
   "id": "fb17de49-7ba1-4e9d-851b-987bd8156d72",
   "metadata": {},
   "outputs": [],
   "source": [
    "matches = {\n",
    "    ('Apples','Fresh'):['Apples, with skin, gala, raw','Apples, with skin, fuji, raw','Apples, without skin, raw','Apples, with skin, raw','Apples, with skin, red delicious, raw','Apples, with skin, granny smith, raw','Apples, with skin, golden delicious, raw'],\n",
    "    ('Apples, applesauce', 'Canned'):['Applesauce, with salt, sweetened, canned','Applesauce, with added ascorbic acid, unsweetened, canned'],\n",
    "    ('Apricots', 'Fresh'):['Apricots, raw'],\n",
    "    ('Apricots, packed in juice', 'Canned'):['Apricots, solids and liquids, with skin, juice pack, canned'],\n",
    "    ('Apricots', 'Dried'):['Apricots, stewed, sulfured, dehydrated (low-moisture)','Apricots, uncooked, sulfured, dehydrated (low-moisture)'],\n",
    "    ('Bananas', 'Fresh'):['Bananas, raw'],\n",
    "    ('Blackberries', 'Fresh'):['Blackberries, raw', 'Blackberries, raw (Alaska Native), wild'],\n",
    "    ('Blackberries', 'Frozen'):['Blackberries, unsweetened, frozen'],\n",
    "    ('Blueberries', 'Fresh'):['Blueberries, raw', 'Blueberries, raw (Alaska Native), wild'],\n",
    "    ('Blueberries', 'Frozen'):['Blueberries, frozen, wild', 'Blueberries, unsweetened, frozen', 'Blueberries, sweetened, frozen', 'Blueberries, frozen (Alaska Native), wild'],\n",
    "    ('Cantaloupe', 'Fresh'):['Melons, raw, cantaloupe'],\n",
    "    ('Cherries', 'Fresh'):['Cherries, raw, sweet', 'Cherries, raw, red, sour'],\n",
    "    ('Cherries, packed in syrup or water', 'Canned'):['Cherries, drained, water pack, canned, sour', 'Cherries, solids and liquids, water pack, canned, sweet', 'Cherries, solids and liquids, juice pack, canned, sweet', 'Cherries, drained, heavy syrup, pitted, canned, sweet', 'Cherries, solids and liquids, light syrup pack, canned, sweet', 'Cherries, solids and liquids, extra heavy syrup pack, canned, red, sour', 'Cherries, solids and liquids, heavy syrup pack, pitted, canned, sweet', 'Cherries, solids and liquids, extra heavy syrup pack, canned, sweet', 'Cherries, solids and liquids, heavy syrup pack, canned, red, sour', 'Cherries, solids and liquids, light syrup pack, canned, red, sour', 'Cherries, solids and liquids (includes USDA commodity red tart cherries, canned), water pack, canned, red, sour'],\n",
    "    ('Clementines', 'Fresh'):['Clementines, raw'],\n",
    "    ('Cranberries', 'Dried'):['Cranberries, sweetened, dried'],\n",
    "    ('Dates', 'Dried'):['Dates, deglet noor', 'Dates, medjool'],\n",
    "    ('Figs', 'Dried'):['Figs, uncooked, dried', 'Figs, stewed, dried'],\n",
    "    ('Grapefruit', 'Fresh'):['Grapefruit, California, white, raw', 'Grapefruit, all areas, white, raw', 'Grapefruit, Florida, white, raw', 'Grapefruit, Florida, pink and red, raw', 'Grapefruit, all areas, pink and red, raw', 'Grapefruit, all areas, pink and red and white, raw', 'Grapefruit, California and Arizona, pink and red, raw'],\n",
    "    ('Grapes', 'Fresh'):['Grapes, raw, muscadine', 'Grapes, raw, american type (slip skin)', 'Grapes, raw, red or green (European type, such as Thompson seedless)'],\n",
    "    ('Grapes (raisins)', 'Dried'):['Raisins, seedless', 'Raisins, seeded', 'Raisins, golden seedless'],\n",
    "    ('Honeydew', 'Fresh'):['Melons, raw, honeydew'],\n",
    "    ('Kiwi', 'Fresh'):['Kiwifruit, raw, green', 'Kiwifruit, raw, ZESPRI SunGold'],\n",
    "    ('Mangoes', 'Fresh'):['Mangos, raw'],\n",
    "    ('Mangoes', 'Dried'):['Mango, sweetened, dried'],\n",
    "    ('Nectarines', 'Fresh'):['Nectarines, raw'],\n",
    "    ('Oranges', 'Fresh'):['Oranges, Florida, raw', 'Oranges, navels, raw', 'Oranges, with peel, raw', 'Oranges, valencias, California, raw', 'Oranges, all commercial varieties, raw'],\n",
    "    ('Papaya', 'Fresh'):['Papayas, raw'],\n",
    "    ('Peaches', 'Fresh'):['Peaches, raw, yellow'],\n",
    "    ('Peaches, packed in juice', 'Canned'):['Peaches, solids and liquids, juice pack, canned'],\n",
    "    ('Peaches, packed in syrup or water', 'Canned'):['Peaches, drained, heavy syrup, canned', 'Peaches, solids and liquids, water pack, canned', 'Peaches, solids and liquids, heavy syrup pack, canned', 'Peaches, solids and liquids, light syrup pack, canned', 'Peaches, solids and liquids, extra light syrup, canned', 'Peaches, solids and liquids, heavy syrup pack, canned, spiced', 'Peaches, solids and liquids, extra heavy syrup pack, canned'],\n",
    "    ('Peaches', 'Frozen'):['Peaches, sweetened, sliced, frozen'],\n",
    "    ('Pears', 'Fresh'):['Pears, red anjou, raw', 'Pears, bartlett, raw', 'Pears, raw, asian', 'Pears, bosc, raw', 'Pears, raw', 'Pears, green anjou, raw'],\n",
    "    ('Pears, packed in juice', 'Canned'):['Pears, solids and liquids, juice pack, canned'],\n",
    "    ('Pears, packed in syrup or water', 'Canned'):['Pears, drained, heavy syrup, canned', 'Pears, solids and liquids, water pack, canned', 'Pears, solids and liquids, light syrup pack, canned', 'Pears, solids and liquids, heavy syrup pack, canned', 'Pears, solids and liquids, extra light syrup pack, canned', 'Pears, solids and liquids, extra heavy syrup pack, canned'],\n",
    "    ('Pineapple', 'Fresh'):['Pineapple, all varieties, raw', 'Pineapple, traditional varieties, raw', 'Pineapple, extra sweet variety, raw'],\n",
    "    ('Pineapple, packed in juice', 'Canned'):['Pineapple, drained, juice pack, canned', 'Pineapple, solids and liquids, juice pack, canned'],\n",
    "    ('Pineapple, packed in syrup or water', 'Canned'):['Pineapple, solids and liquids, water pack, canned', 'Pineapple, solids and liquids, heavy syrup pack, canned', 'Pineapple, solids and liquids, light syrup pack, canned', 'Pineapple, solids and liquids, extra heavy syrup pack, canned'],\n",
    "    ('Plum', 'Fresh'):['Plums, raw'],\n",
    "    ('Plum (prunes)', 'Dried'):['Plums, uncooked, dried (prunes)', 'Plums, with added sugar, stewed, dried (prunes)', 'Plums, without added sugar, stewed, dried (prunes)'],\n",
    "    ('Pomegranate', 'Fresh'):['Pomegranates, raw'],\n",
    "    ('Raspberries', 'Fresh'):['Raspberries, raw'],\n",
    "    ('Raspberries', 'Frozen'):['Raspberries, unsweetened, frozen', 'Raspberries, sweetened, red, frozen'],\n",
    "    ('Strawberries', 'Fresh'):['Strawberries, raw'],\n",
    "    ('Strawberries', 'Frozen'):['Strawberries, unsweetened, frozen', 'Strawberries, sliced, sweetened, frozen', 'Strawberries, whole, sweetened, frozen'],\n",
    "    ('Watermelon', 'Fresh'):['Watermelon, raw'],\n",
    "}"
   ]
  },
  {
   "cell_type": "code",
   "execution_count": null,
   "id": "9b089bd9-d172-409c-b35a-a0c0d3188297",
   "metadata": {},
   "outputs": [],
   "source": []
  }
 ],
 "metadata": {
  "kernelspec": {
   "display_name": "Python 3 (ipykernel)",
   "language": "python",
   "name": "python3"
  },
  "language_info": {
   "codemirror_mode": {
    "name": "ipython",
    "version": 3
   },
   "file_extension": ".py",
   "mimetype": "text/x-python",
   "name": "python",
   "nbconvert_exporter": "python",
   "pygments_lexer": "ipython3",
   "version": "3.9.13"
  }
 },
 "nbformat": 4,
 "nbformat_minor": 5
}
