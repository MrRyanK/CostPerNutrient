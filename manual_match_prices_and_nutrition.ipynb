{
 "cells": [
  {
   "cell_type": "code",
   "execution_count": 1,
   "id": "4ef4b319-8d32-4229-8224-6b41f553bf48",
   "metadata": {},
   "outputs": [],
   "source": [
    "import pandas as pd"
   ]
  },
  {
   "cell_type": "code",
   "execution_count": 3,
   "id": "be93cd03-1a81-4749-ae05-b334bcc11ffe",
   "metadata": {},
   "outputs": [],
   "source": [
    "prices = pd.read_csv('prices.csv')"
   ]
  },
  {
   "cell_type": "code",
   "execution_count": 7,
   "id": "56350741-0feb-48c1-b555-f37b3b161eeb",
   "metadata": {},
   "outputs": [],
   "source": [
    "foods = pd.read_csv('nutrition.csv').drop('Unnamed: 0', axis=1)"
   ]
  },
  {
   "cell_type": "code",
   "execution_count": 644,
   "id": "9519977d-1e84-4031-b014-af689f8a34e3",
   "metadata": {},
   "outputs": [
    {
     "data": {
      "text/plain": [
       "('Zucchini', 'Fresh')"
      ]
     },
     "execution_count": 644,
     "metadata": {},
     "output_type": "execute_result"
    }
   ],
   "source": [
    "key = tuple(prices.iloc[143,:2])\n",
    "key"
   ]
  },
  {
   "cell_type": "code",
   "execution_count": 645,
   "id": "a13fae61-e544-4480-9d03-ba68ace74202",
   "metadata": {},
   "outputs": [
    {
     "data": {
      "text/plain": [
       "'Zucchini'"
      ]
     },
     "execution_count": 645,
     "metadata": {},
     "output_type": "execute_result"
    }
   ],
   "source": [
    "key[0]"
   ]
  },
  {
   "cell_type": "code",
   "execution_count": 646,
   "id": "5fcc4a95-899a-4f7e-a924-93675f36f15f",
   "metadata": {},
   "outputs": [
    {
     "data": {
      "text/plain": [
       "['Squash, raw, includes skin, zucchini, summer']"
      ]
     },
     "execution_count": 646,
     "metadata": {},
     "output_type": "execute_result"
    }
   ],
   "source": [
    "string = key[0]+\",\"\n",
    "string = \"ucchini,\"    # overwrite, if needed\n",
    "\n",
    "elements = (\n",
    "    # foods.query(f\"name.str.contains('{string}')\")['name'].to_list()\n",
    "    foods.query(f\"name.str.contains('{string}') and name.str.contains(' raw')\")['name'].to_list()\n",
    "    # foods.query(f\"name.str.contains('{string}') and name.str.contains(' raw') and name.str.contains('red, swe')\")['name'].to_list()\n",
    "\n",
    "    # foods.query(f\"name.str.contains('{string}') and name.str.contains('frozen')\")['name'].to_list()\n",
    "\n",
    "    # foods.query(f\"name.str.contains('{string}') and name.str.contains('dehy')\")['name'].to_list()\n",
    "    # foods.query(f\"name.str.contains('{string}') and name.str.contains('dried')\")['name'].to_list()\n",
    "\n",
    "    # foods.query(f\"name.str.contains('{string}') and name.str.contains('canned')\")['name'].to_list()\n",
    "    # foods.query(f\"name.str.contains('{string}') and name.str.contains('canned') and name.str.contains('juice')\")['name'].to_list()\n",
    "    # foods.query(f\"name.str.contains('{string}') and name.str.contains('canned') and not name.str.contains('juice')\")['name'].to_list()\n",
    "\n",
    "    # foods.query(f\"name.str.contains('{string}') and name.str.contains('cooked')\")['name'].to_list()\n",
    "    # foods.query(f\"name.str.contains('{string}') and name.str.contains('canned') and name.str.contains('pinto')\")['name'].to_list()\n",
    "    # foods.query(f\"name.str.contains('{string}') and name.str.contains('frozen') and name.str.contains('ima')\")['name'].to_list()\n",
    "    # foods.query(f\"name.str.contains('{string}') and name.str.contains('cherry')\")['name'].to_list()\n",
    ")\n",
    "\n",
    "elements"
   ]
  },
  {
   "cell_type": "code",
   "execution_count": 640,
   "id": "f82798f8-8de7-4eb8-aafd-43aba5d099d9",
   "metadata": {},
   "outputs": [
    {
     "name": "stdout",
     "output_type": "stream",
     "text": [
      "('Zucchini', 'Fresh'):['Squash, raw, includes skin, zucchini, summer'],\n"
     ]
    }
   ],
   "source": [
    "print(f\"{key}:{elements},\")"
   ]
  },
  {
   "cell_type": "code",
   "execution_count": 641,
   "id": "fb17de49-7ba1-4e9d-851b-987bd8156d72",
   "metadata": {},
   "outputs": [],
   "source": [
    "matches = {\n",
    "    ('Apples','Fresh'):['Apples, with skin, gala, raw','Apples, with skin, fuji, raw','Apples, without skin, raw','Apples, with skin, raw','Apples, with skin, red delicious, raw','Apples, with skin, granny smith, raw','Apples, with skin, golden delicious, raw'],\n",
    "    ('Apples, applesauce', 'Canned'):['Applesauce, with salt, sweetened, canned','Applesauce, with added ascorbic acid, unsweetened, canned'],\n",
    "    ('Apricots', 'Fresh'):['Apricots, raw'],\n",
    "    ('Apricots, packed in juice', 'Canned'):['Apricots, solids and liquids, with skin, juice pack, canned'],\n",
    "    ('Apricots', 'Dried'):['Apricots, stewed, sulfured, dehydrated (low-moisture)','Apricots, uncooked, sulfured, dehydrated (low-moisture)'],\n",
    "    ('Bananas', 'Fresh'):['Bananas, raw'],\n",
    "    ('Blackberries', 'Fresh'):['Blackberries, raw', 'Blackberries, raw (Alaska Native), wild'],\n",
    "    ('Blackberries', 'Frozen'):['Blackberries, unsweetened, frozen'],\n",
    "    ('Blueberries', 'Fresh'):['Blueberries, raw', 'Blueberries, raw (Alaska Native), wild'],\n",
    "    ('Blueberries', 'Frozen'):['Blueberries, frozen, wild', 'Blueberries, unsweetened, frozen', 'Blueberries, sweetened, frozen', 'Blueberries, frozen (Alaska Native), wild'],\n",
    "    ('Cantaloupe', 'Fresh'):['Melons, raw, cantaloupe'],\n",
    "    ('Cherries', 'Fresh'):['Cherries, raw, sweet', 'Cherries, raw, red, sour'],\n",
    "    ('Cherries, packed in syrup or water', 'Canned'):['Cherries, drained, water pack, canned, sour', 'Cherries, solids and liquids, water pack, canned, sweet', 'Cherries, solids and liquids, juice pack, canned, sweet', 'Cherries, drained, heavy syrup, pitted, canned, sweet', 'Cherries, solids and liquids, light syrup pack, canned, sweet', 'Cherries, solids and liquids, extra heavy syrup pack, canned, red, sour', 'Cherries, solids and liquids, heavy syrup pack, pitted, canned, sweet', 'Cherries, solids and liquids, extra heavy syrup pack, canned, sweet', 'Cherries, solids and liquids, heavy syrup pack, canned, red, sour', 'Cherries, solids and liquids, light syrup pack, canned, red, sour', 'Cherries, solids and liquids (includes USDA commodity red tart cherries, canned), water pack, canned, red, sour'],\n",
    "    ('Clementines', 'Fresh'):['Clementines, raw'],\n",
    "    ('Cranberries', 'Dried'):['Cranberries, sweetened, dried'],\n",
    "    ('Dates', 'Dried'):['Dates, deglet noor', 'Dates, medjool'],\n",
    "    ('Figs', 'Dried'):['Figs, uncooked, dried', 'Figs, stewed, dried'],\n",
    "    ('Grapefruit', 'Fresh'):['Grapefruit, California, white, raw', 'Grapefruit, all areas, white, raw', 'Grapefruit, Florida, white, raw', 'Grapefruit, Florida, pink and red, raw', 'Grapefruit, all areas, pink and red, raw', 'Grapefruit, all areas, pink and red and white, raw', 'Grapefruit, California and Arizona, pink and red, raw'],\n",
    "    ('Grapes', 'Fresh'):['Grapes, raw, muscadine', 'Grapes, raw, american type (slip skin)', 'Grapes, raw, red or green (European type, such as Thompson seedless)'],\n",
    "    ('Grapes (raisins)', 'Dried'):['Raisins, seedless', 'Raisins, seeded', 'Raisins, golden seedless'],\n",
    "    ('Honeydew', 'Fresh'):['Melons, raw, honeydew'],\n",
    "    ('Kiwi', 'Fresh'):['Kiwifruit, raw, green', 'Kiwifruit, raw, ZESPRI SunGold'],\n",
    "    ('Mangoes', 'Fresh'):['Mangos, raw'],\n",
    "    ('Mangoes', 'Dried'):['Mango, sweetened, dried'],\n",
    "    ('Nectarines', 'Fresh'):['Nectarines, raw'],\n",
    "    ('Oranges', 'Fresh'):['Oranges, Florida, raw', 'Oranges, navels, raw', 'Oranges, with peel, raw', 'Oranges, valencias, California, raw', 'Oranges, all commercial varieties, raw'],\n",
    "    ('Papaya', 'Fresh'):['Papayas, raw'],\n",
    "    ('Peaches', 'Fresh'):['Peaches, raw, yellow'],\n",
    "    ('Peaches, packed in juice', 'Canned'):['Peaches, solids and liquids, juice pack, canned'],\n",
    "    ('Peaches, packed in syrup or water', 'Canned'):['Peaches, drained, heavy syrup, canned', 'Peaches, solids and liquids, water pack, canned', 'Peaches, solids and liquids, heavy syrup pack, canned', 'Peaches, solids and liquids, light syrup pack, canned', 'Peaches, solids and liquids, extra light syrup, canned', 'Peaches, solids and liquids, heavy syrup pack, canned, spiced', 'Peaches, solids and liquids, extra heavy syrup pack, canned'],\n",
    "    ('Peaches', 'Frozen'):['Peaches, sweetened, sliced, frozen'],\n",
    "    ('Pears', 'Fresh'):['Pears, red anjou, raw', 'Pears, bartlett, raw', 'Pears, raw, asian', 'Pears, bosc, raw', 'Pears, raw', 'Pears, green anjou, raw'],\n",
    "    ('Pears, packed in juice', 'Canned'):['Pears, solids and liquids, juice pack, canned'],\n",
    "    ('Pears, packed in syrup or water', 'Canned'):['Pears, drained, heavy syrup, canned', 'Pears, solids and liquids, water pack, canned', 'Pears, solids and liquids, light syrup pack, canned', 'Pears, solids and liquids, heavy syrup pack, canned', 'Pears, solids and liquids, extra light syrup pack, canned', 'Pears, solids and liquids, extra heavy syrup pack, canned'],\n",
    "    ('Pineapple', 'Fresh'):['Pineapple, all varieties, raw', 'Pineapple, traditional varieties, raw', 'Pineapple, extra sweet variety, raw'],\n",
    "    ('Pineapple, packed in juice', 'Canned'):['Pineapple, drained, juice pack, canned', 'Pineapple, solids and liquids, juice pack, canned'],\n",
    "    ('Pineapple, packed in syrup or water', 'Canned'):['Pineapple, solids and liquids, water pack, canned', 'Pineapple, solids and liquids, heavy syrup pack, canned', 'Pineapple, solids and liquids, light syrup pack, canned', 'Pineapple, solids and liquids, extra heavy syrup pack, canned'],\n",
    "    ('Plum', 'Fresh'):['Plums, raw'],\n",
    "    ('Plum (prunes)', 'Dried'):['Plums, uncooked, dried (prunes)', 'Plums, with added sugar, stewed, dried (prunes)', 'Plums, without added sugar, stewed, dried (prunes)'],\n",
    "    ('Pomegranate', 'Fresh'):['Pomegranates, raw'],\n",
    "    ('Raspberries', 'Fresh'):['Raspberries, raw'],\n",
    "    ('Raspberries', 'Frozen'):['Raspberries, unsweetened, frozen', 'Raspberries, sweetened, red, frozen'],\n",
    "    ('Strawberries', 'Fresh'):['Strawberries, raw'],\n",
    "    ('Strawberries', 'Frozen'):['Strawberries, unsweetened, frozen', 'Strawberries, sliced, sweetened, frozen', 'Strawberries, whole, sweetened, frozen'],\n",
    "    ('Watermelon', 'Fresh'):['Watermelon, raw'],\n",
    "    ('Acorn squash', 'Fresh'):['Squash, raw, acorn, winter'],\n",
    "    ('Artichoke', 'Fresh'):['Artichokes, raw, (globe or french)'],\n",
    "    ('Asparagus', 'Fresh'):['Asparagus, raw'],\n",
    "    ('Asparagus', 'Canned'):['Asparagus, drained solids, canned', 'Asparagus, solids and liquids, no salt added, canned', 'Asparagus, solids and liquids, regular pack, canned'],\n",
    "    ('Asparagus', 'Frozen'):['Asparagus, unprepared, frozen', 'Asparagus, with salt, drained, boiled, cooked, frozen', 'Asparagus, without salt, drained, boiled, cooked, frozen'],\n",
    "    ('Avocados', 'Fresh'):['Avocados, California, raw', 'Avocados, Florida, raw', 'Avocados, all commercial varieties, raw'],\n",
    "    ('Beets', 'Canned'):['Beets, drained solids, canned', 'Beets, solids and liquids, canned, pickled', 'Beets, solids and liquids, canned, harvard', 'Beets, solids and liquids, no salt added, canned', 'Beets, solids and liquids, regular pack, canned'],\n",
    "    ('Black beans', 'Canned'):['Beans, canned, mature seeds, black turtle', 'Beans, low sodium, canned, mature seeds, black'],\n",
    "    ('Black beans', 'Dried'):['Beans, raw, mature seeds, black', 'Beans, raw, mature seeds, black turtle'],\n",
    "    ('Blackeye peas', 'Canned'):['Cowpeas, plain, canned, mature seeds, common (blackeyes, crowder, southern)'],\n",
    "    ('Blackeye peas', 'Dried'):['Cowpeas (blackeyes), raw, immature seeds', 'Cowpeas, raw, mature seeds, common (blackeyes, crowder, southern)'],\n",
    "    ('Broccoli florets', 'Fresh'):['Broccoli raab, raw', 'Broccoli, raw', 'Broccoli, raw, flower clusters'],\n",
    "    ('Broccoli heads', 'Fresh'):['Broccoli raab, raw', 'Broccoli, raw', 'Broccoli, raw, flower clusters'],\n",
    "    ('Broccoli', 'Frozen'):['Broccoli, unprepared, chopped, frozen', 'Broccoli, unprepared, spears, frozen', 'Broccoli, without salt, drained, boiled, cooked, spears, frozen', 'Broccoli, with salt, drained, boiled, cooked, chopped, frozen', 'Broccoli, with salt, drained, boiled, cooked, spears, frozen', 'Broccoli, without salt, drained, boiled, cooked, chopped, frozen'],\n",
    "    ('Brussels sprouts', 'Fresh'):['Brussels sprouts, raw'],\n",
    "    ('Brussels sprouts', 'Frozen'):['Brussels sprouts, unprepared, frozen', 'Brussels sprouts, without salt, drained, boiled, cooked, frozen', 'Brussels sprouts, with salt, drained, boiled, cooked, frozen'],\n",
    "    ('Butternut squash', 'Fresh'):['Squash, raw, butternut, winter'],\n",
    "    ('Cabbage, green', 'Fresh'):['Cabbage, raw'],\n",
    "    ('Cabbage, red', 'Fresh'):['Cabbage, raw, red'],\n",
    "    ('Cabbage, sauerkraut', 'Canned'):['Sauerkraut, solids and liquids, canned'],\n",
    "    ('Carrots, cooked whole', 'Fresh'):['Carrots, with salt, drained, boiled, cooked', 'Carrots, without salt, drained, boiled, cooked'],\n",
    "    ('Carrots, raw whole', 'Fresh'):['Carrots, raw'],\n",
    "    ('Carrots, baby', 'Fresh'):['Carrots, raw, baby'],\n",
    "    ('Carrots', 'Canned'):['Carrots, drained solids, no salt added, canned', 'Carrots, drained solids, regular pack, canned', 'Carrots, solids and liquids, no salt added, canned', 'Carrots, solids and liquids, regular pack, canned'],\n",
    "    ('Carrots', 'Frozen'):['Carrots, unprepared, frozen', 'Carrots, with salt, drained, boiled, cooked, frozen', 'Carrots, without salt, drained, boiled, cooked, frozen'],\n",
    "    ('Cauliflower florets', 'Fresh'):['Cauliflower, raw', 'Cauliflower, raw, green'],\n",
    "    ('Cauliflower heads', 'Fresh'):['Cauliflower, raw', 'Cauliflower, raw, green'],\n",
    "    ('Cauliflower', 'Frozen'):['Cauliflower, unprepared, frozen', 'Cauliflower, without salt, drained, boiled, cooked, frozen', 'Cauliflower, with salt, drained, boiled, cooked, frozen'],\n",
    "    ('Celery, trimmed bunches', 'Fresh'):['Celery, raw'],\n",
    "    ('Celery sticks', 'Fresh'):['Celery, raw'],\n",
    "    ('Collard greens', 'Fresh'):['Collards, raw'],\n",
    "    ('Collard greens', 'Frozen'):['Collards, unprepared, chopped, frozen', 'Collards, with salt, drained, boiled, cooked, chopped, frozen', 'Collards, without salt, drained, boiled, cooked, chopped, frozen'],\n",
    "    ('Corn', 'Fresh'):['Corn, raw, white, sweet', 'Corn, raw, yellow, sweet'],\n",
    "    ('Corn', 'Canned'):['Corn, drained solids, whole kernel, canned, yellow, sweet', 'Corn, drained solids, whole kernel, canned, white, sweet', 'Corn, no salt added, cream style, canned, yellow, sweet', 'Corn, no salt added, vacuum pack, canned, yellow, sweet', 'Corn, regular pack, cream style, canned, yellow, sweet', 'Corn, regular pack, vacuum pack, canned, yellow, sweet', 'Corn, no salt added, vacuum pack, canned, white, sweet', 'Corn, no salt added, cream style, canned, white, sweet', 'Corn, regular pack, vacuum pack, canned, white, sweet', 'Corn, regular pack, cream style, canned, white, sweet', 'Corn, solids and liquids, no salt added, canned, yellow, sweet', 'Corn, rinsed with tap water, drained solids, canned, yellow, sweet', 'Corn, solids and liquids, no salt added, whole kernel, canned, white, sweet', 'Corn, solids and liquids, regular pack, whole kernel, canned, white, sweet', 'Corn, solids and liquids, regular pack, brine pack, canned, yellow, sweet'],\n",
    "    ('Corn', 'Frozen'):['Corn, unprepared, kernels on cob, frozen, yellow, sweet', 'Corn, unprepared, kernels on cob, frozen, white, sweet', 'Corn, unprepared, kernels cut off cob, frozen, yellow, sweet', 'Corn, unprepared, kernels cut off cob, frozen, white, sweet', 'Corn, without salt, drained, boiled, cooked, kernels on cob, frozen, yellow, sweet', 'Corn, without salt, drained, boiled, cooked, kernels on cob, frozen, white, sweet', 'Corn, without salt, drained, boiled, kernels cut off cob, frozen, yellow, sweet', 'Corn, with salt, drained, boiled, cooked, kernels on cob, frozen, yellow, sweet', 'Corn, with salt, drained, boiled, cooked, kernels on cob, frozen, white, sweet', 'Corn, without salt, drained, boiled, kernels cut off cob, frozen, white, sweet', 'Corn, with salt, drained, boiled, cut off cob, kernels, frozen, yellow, sweet', 'Corn, with salt, drained, boiled, kernels cut off cob, frozen, white, sweet'],\n",
    "    ('Cucumbers with peel', 'Fresh'):['Cucumber, raw, with peel'],\n",
    "    ('Cucumbers without peel', 'Fresh'):['Cucumber, raw, peeled'],\n",
    "    ('Great northern beans', 'Canned'):['Beans, canned, mature seeds, great northern', 'Beans, low sodium, canned, mature seeds, great northern'],\n",
    "    ('Great northern beans', 'Dried'):['Beans, raw, mature seeds, great northern'],\n",
    "    ('Green beans', 'Fresh'):['Beans, raw, green, snap'],\n",
    "    ('Green beans', 'Canned'):['Beans, drained solids, no salt added, canned, green, snap', 'Beans, drained solids, regular pack, canned, green, snap', 'Beans, solids and liquids, no salt added, canned, green, snap', 'Beans, solids and liquids, regular pack, canned, green, snap'],\n",
    "    ('Green beans', 'Frozen'):['Beans, microwaved, all styles, frozen, green, snap', 'Beans, unprepared, all styles, frozen, green, snap', 'Beans, with salt, drained, boiled, cooked, frozen, green, snap', 'Beans, drained without salt, boiled, cooked, frozen, green, snap'],\n",
    "    ('Green peas', 'Canned'):['Peas, solids and liquids, regular pack, canned, green', 'Peas, drained solids, no salt added, canned, green', 'Peas, rinsed in tap water, drained solids, canned, green', 'Peas, solids and liquids, no salt added, canned, green', 'Peas, unprepared, drained solids, canned, green (includes baby and lesuer types)'],\n",
    "    ('Green peas', 'Frozen'):['Peas, unprepared, frozen, green'],\n",
    "    ('Green peppers', 'Fresh'):['Peppers, raw, green, sweet'],\n",
    "    ('Kale', 'Fresh'):['Kale, raw, scotch', 'Kale, raw'],\n",
    "    ('Kale', 'Frozen'):['Kale, unprepared, frozen', 'Kale, with salt, drained, boiled, cooked, frozen', 'Kale, without salt, drained, boiled, cooked, frozen'],\n",
    "    ('Kidney beans', 'Canned'):['Beans, canned, mature seeds, all types, kidney', 'Beans, drained solids, canned, mature seeds, red, kidney', 'Beans, solids and liquids, canned, mature seeds, red, kidney', 'Beans, rinsed in tap water, drained solids, canned, mature seeds, red, kidney', 'Beans, low sodium, solids and liquid, canned, mature seeds, red, kidney'],\n",
    "    ('Kidney beans', 'Dried'):['Beans, raw, mature seeds, red, kidney', 'Beans, raw, mature seeds, royal red, kidney', 'Beans, raw, mature seeds, all types, kidney', 'Beans, raw, mature seeds, california red, kidney'],\n",
    "    ('Lentils', 'Dried'):['Lentils, raw', 'Lentils, raw, pink or red'],\n",
    "    ('Lettuce, iceberg', 'Fresh'):['Lettuce, raw, iceberg (includes crisphead types)'],\n",
    "    ('Lettuce, romaine, heads', 'Fresh'):['Lettuce, raw, cos or romaine'],\n",
    "    ('Lettuce, romaine, hearts', 'Fresh'):['Lettuce, raw, cos or romaine'],\n",
    "    ('Lima beans', 'Canned'):['Lima beans, canned, mature seeds, large', 'Lima beans, solids and liquids, no salt added, canned, immature seeds', 'Lima beans, solids and liquids, regular pack, canned, immature seeds'],\n",
    "    ('Lima beans', 'Frozen'):['Lima beans, unprepared, baby, frozen, immature seeds', 'Lima beans, unprepared, fordhook, frozen, immature seeds', 'Lima beans, without salt, drained, boiled, cooked, fordhook, frozen, immature seeds', 'Lima beans, with salt, drained, boiled, cooked, fordhook, frozen, immature seeds', 'Lima beans, without salt, drained, boiled, cooked, baby, frozen, immature seeds', 'Lima beans, with salt, drained, boiled, cooked, baby, frozen, immature seeds'],\n",
    "    ('Lima beans', 'Dried'):['Lima beans, raw, mature seeds, large', 'Lima beans, raw, mature seeds, thin seeded (baby)'],\n",
    "    ('Mushrooms, whole', 'Fresh'):['Mushrooms, raw, white','Mushrooms, raw, portabella'],\n",
    "    ('Mushrooms, sliced', 'Fresh'):['Mushrooms, raw, white','Mushrooms, raw, portabella'],\n",
    "    ('Navy beans', 'Canned'):['Beans, canned, mature seeds, navy'],\n",
    "    ('Navy beans', 'Dried'):['Beans, raw, mature seeds, navy'],\n",
    "    ('Okra', 'Fresh'):['Okra, raw'],\n",
    "    ('Okra', 'Frozen'):['Okra, unprepared, frozen', 'Okra, with salt, drained, boiled, cooked, frozen', 'Okra, without salt, drained, boiled, cooked, frozen'],\n",
    "    ('Olives', 'Canned'):['Olives, canned (jumbo-super colossal), ripe', 'Olives, green, canned or bottled, pickled', 'Olives, canned (small-extra large), ripe'],\n",
    "    ('Onions', 'Fresh'):['Onions, raw, sweet', 'Onions, raw, welsh', 'Onions, raw'],\n",
    "    ('Pinto beans', 'Canned'):['Beans, drained solids, canned, pinto', 'Beans, solids and liquids, canned, mature seeds, pinto', 'Beans, rinsed in tap water, drained solids, canned, mature seeds, pinto', 'Beans, low sodium, solids and liquids, canned, mature seeds, pinto'],\n",
    "    ('Pinto beans', 'Dried'):['Beans, raw, mature seeds, pinto'],\n",
    "    ('Potatoes', 'Fresh'):['Potatoes, raw, flesh and skin, red', 'Potatoes, raw, flesh and skin', 'Potatoes, raw, flesh and skin, russet', 'Potatoes, raw, flesh and skin, white'],\n",
    "    ('Potatoes', 'Canned'):['Potatoes, drained solids, canned', 'Potatoes, solids and liquids, canned', 'Potatoes, no salt added, drained solids, canned'],\n",
    "    ('Pumpkin', 'Canned'):['Pumpkin, without salt, canned', 'Pumpkin, with salt, canned'],\n",
    "    ('Radish', 'Fresh'):['Radishes, raw'],\n",
    "    ('Red peppers', 'Fresh'):['Peppers, raw, red, sweet'],\n",
    "    ('Spinach, eaten raw', 'Fresh'):['Spinach, raw'],\n",
    "    ('Spinach', 'Canned'):['Spinach, drained solids, regular pack, canned', 'Spinach, solids and liquids, no salt added, canned', 'Spinach, solids and liquids, regular pack, canned'],\n",
    "    ('Spinach', 'Frozen'):['Spinach, unprepared, chopped or leaf, frozen', 'Spinach, without salt, drained, boiled, cooked, chopped or leaf, frozen', 'Spinach, with salt, drained, boiled, cooked, chopped or leaf, frozen'],\n",
    "    ('Tomatoes, grape & cherry', 'Fresh'):['Tomatoes, raw, orange', 'Tomatoes, raw, yellow', 'Tomatoes, raw, green', 'Tomatoes, year round average, raw, ripe, red'],\n",
    "    ('Tomatoes, roma & plum', 'Fresh'):['Tomatoes, year round average, raw, ripe, red'],\n",
    "    ('Tomatoes, large round', 'Fresh'):['Tomatoes, raw, orange', 'Tomatoes, raw, yellow', 'Tomatoes, raw, green', 'Tomatoes, year round average, raw, ripe, red'],\n",
    "    ('Tomatoes', 'Canned'):['Tomatoes, canned, crushed', 'Tomatoes, stewed, canned, ripe, red', 'Tomatoes, packed in tomato juice, canned, ripe, red', 'Tomatoes, no salt added, packed in tomato juice, canned, ripe, red'],\n",
    "    ('Turnip greens', 'Fresh'):['Turnip greens, raw'],\n",
    "    ('Turnip greens', 'Canned'):['Turnip greens, no salt added, canned', 'Turnip greens, solids and liquids, canned'],\n",
    "    ('Turnip greens', 'Frozen'):['Turnip greens, unprepared, frozen', 'Turnip greens, with salt, drained, boiled, cooked, frozen', 'Turnip greens, without salt, drained, boiled, cooked, frozen'],\n",
    "    ('Zucchini', 'Fresh'):['Squash, raw, includes skin, zucchini, summer'],    \n",
    "}"
   ]
  },
  {
   "cell_type": "code",
   "execution_count": 650,
   "id": "4e9f92f8-0cca-47db-b003-2539ecfdb989",
   "metadata": {},
   "outputs": [],
   "source": [
    "def dict_to_dataframe(data):\n",
    "    rows = []\n",
    "    for (key1, key2), values in data.items():\n",
    "        for value in values:\n",
    "            rows.append((key1, key2, value))\n",
    "    df = pd.DataFrame(rows, columns=['Key1', 'Key2', 'Value'])\n",
    "    return df"
   ]
  },
  {
   "cell_type": "code",
   "execution_count": 655,
   "id": "d0597906-94e5-4ad3-b785-b4b34e2779b3",
   "metadata": {},
   "outputs": [
    {
     "data": {
      "text/html": [
       "<div>\n",
       "<style scoped>\n",
       "    .dataframe tbody tr th:only-of-type {\n",
       "        vertical-align: middle;\n",
       "    }\n",
       "\n",
       "    .dataframe tbody tr th {\n",
       "        vertical-align: top;\n",
       "    }\n",
       "\n",
       "    .dataframe thead th {\n",
       "        text-align: right;\n",
       "    }\n",
       "</style>\n",
       "<table border=\"1\" class=\"dataframe\">\n",
       "  <thead>\n",
       "    <tr style=\"text-align: right;\">\n",
       "      <th></th>\n",
       "      <th>Item</th>\n",
       "      <th>Form</th>\n",
       "      <th>name</th>\n",
       "    </tr>\n",
       "  </thead>\n",
       "  <tbody>\n",
       "    <tr>\n",
       "      <th>0</th>\n",
       "      <td>Apples</td>\n",
       "      <td>Fresh</td>\n",
       "      <td>Apples, with skin, gala, raw</td>\n",
       "    </tr>\n",
       "    <tr>\n",
       "      <th>1</th>\n",
       "      <td>Apples</td>\n",
       "      <td>Fresh</td>\n",
       "      <td>Apples, with skin, fuji, raw</td>\n",
       "    </tr>\n",
       "    <tr>\n",
       "      <th>2</th>\n",
       "      <td>Apples</td>\n",
       "      <td>Fresh</td>\n",
       "      <td>Apples, without skin, raw</td>\n",
       "    </tr>\n",
       "    <tr>\n",
       "      <th>3</th>\n",
       "      <td>Apples</td>\n",
       "      <td>Fresh</td>\n",
       "      <td>Apples, with skin, raw</td>\n",
       "    </tr>\n",
       "    <tr>\n",
       "      <th>4</th>\n",
       "      <td>Apples</td>\n",
       "      <td>Fresh</td>\n",
       "      <td>Apples, with skin, red delicious, raw</td>\n",
       "    </tr>\n",
       "    <tr>\n",
       "      <th>...</th>\n",
       "      <td>...</td>\n",
       "      <td>...</td>\n",
       "      <td>...</td>\n",
       "    </tr>\n",
       "    <tr>\n",
       "      <th>315</th>\n",
       "      <td>Turnip greens</td>\n",
       "      <td>Canned</td>\n",
       "      <td>Turnip greens, solids and liquids, canned</td>\n",
       "    </tr>\n",
       "    <tr>\n",
       "      <th>316</th>\n",
       "      <td>Turnip greens</td>\n",
       "      <td>Frozen</td>\n",
       "      <td>Turnip greens, unprepared, frozen</td>\n",
       "    </tr>\n",
       "    <tr>\n",
       "      <th>317</th>\n",
       "      <td>Turnip greens</td>\n",
       "      <td>Frozen</td>\n",
       "      <td>Turnip greens, with salt, drained, boiled, coo...</td>\n",
       "    </tr>\n",
       "    <tr>\n",
       "      <th>318</th>\n",
       "      <td>Turnip greens</td>\n",
       "      <td>Frozen</td>\n",
       "      <td>Turnip greens, without salt, drained, boiled, ...</td>\n",
       "    </tr>\n",
       "    <tr>\n",
       "      <th>319</th>\n",
       "      <td>Zucchini</td>\n",
       "      <td>Fresh</td>\n",
       "      <td>Squash, raw, includes skin, zucchini, summer</td>\n",
       "    </tr>\n",
       "  </tbody>\n",
       "</table>\n",
       "<p>320 rows × 3 columns</p>\n",
       "</div>"
      ],
      "text/plain": [
       "              Item    Form                                               name\n",
       "0           Apples   Fresh                       Apples, with skin, gala, raw\n",
       "1           Apples   Fresh                       Apples, with skin, fuji, raw\n",
       "2           Apples   Fresh                          Apples, without skin, raw\n",
       "3           Apples   Fresh                             Apples, with skin, raw\n",
       "4           Apples   Fresh              Apples, with skin, red delicious, raw\n",
       "..             ...     ...                                                ...\n",
       "315  Turnip greens  Canned          Turnip greens, solids and liquids, canned\n",
       "316  Turnip greens  Frozen                  Turnip greens, unprepared, frozen\n",
       "317  Turnip greens  Frozen  Turnip greens, with salt, drained, boiled, coo...\n",
       "318  Turnip greens  Frozen  Turnip greens, without salt, drained, boiled, ...\n",
       "319       Zucchini   Fresh       Squash, raw, includes skin, zucchini, summer\n",
       "\n",
       "[320 rows x 3 columns]"
      ]
     },
     "execution_count": 655,
     "metadata": {},
     "output_type": "execute_result"
    }
   ],
   "source": [
    "df = dict_to_dataframe(matches)\n",
    "df.columns = ['Item','Form','name']\n",
    "df"
   ]
  },
  {
   "cell_type": "code",
   "execution_count": 657,
   "id": "9aa089d5-68ba-467c-8345-f47bd5cb803d",
   "metadata": {},
   "outputs": [],
   "source": [
    "df.to_csv('manual_matches.csv')"
   ]
  }
 ],
 "metadata": {
  "kernelspec": {
   "display_name": "Python 3 (ipykernel)",
   "language": "python",
   "name": "python3"
  },
  "language_info": {
   "codemirror_mode": {
    "name": "ipython",
    "version": 3
   },
   "file_extension": ".py",
   "mimetype": "text/x-python",
   "name": "python",
   "nbconvert_exporter": "python",
   "pygments_lexer": "ipython3",
   "version": "3.9.13"
  }
 },
 "nbformat": 4,
 "nbformat_minor": 5
}
