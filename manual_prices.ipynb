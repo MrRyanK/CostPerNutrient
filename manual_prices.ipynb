{
 "cells": [
  {
   "cell_type": "code",
   "execution_count": 1,
   "id": "4ef4b319-8d32-4229-8224-6b41f553bf48",
   "metadata": {},
   "outputs": [],
   "source": [
    "import pandas as pd"
   ]
  },
  {
   "cell_type": "code",
   "execution_count": 3,
   "id": "56350741-0feb-48c1-b555-f37b3b161eeb",
   "metadata": {},
   "outputs": [],
   "source": [
    "foods = pd.read_csv('nutrition.csv').drop('Unnamed, 0', axis=1)"
   ]
  },
  {
   "cell_type": "code",
   "execution_count": 59,
   "id": "2e4bd596-6a12-4ba3-b082-13abd3958b9d",
   "metadata": {},
   "outputs": [
    {
     "data": {
      "text/plain": [
       "['Beef, raw, choice, trimmed to 1/8\" fat, separable lean and fat, steak, top sirloin',\n",
       " 'Beef, raw, choice, trimmed to 1/8\" fat, separable lean only, steak, top sirloin',\n",
       " 'Beef, raw, choice, trimmed to 1/8\" fat, separable lean only, boneless, top sirloin cap steak, loin',\n",
       " 'Beef, raw, choice, trimmed to 0\" fat, separable lean only, boneless, top sirloin petite roast/filet, loin',\n",
       " 'Beef, raw, choice, trimmed to 1/8\" fat, separable lean and fat, boneless, top sirloin cap steak, loin']"
      ]
     },
     "execution_count": 59,
     "metadata": {},
     "output_type": "execute_result"
    }
   ],
   "source": [
    "# foods.query(\"name.str.startswith('Wheat,')\").name.iloc[1]\n",
    "foods.query(\"name.str.contains('Beef, raw, choice') and name.str.contains('top sirloin')\").name.to_list()"
   ]
  },
  {
   "cell_type": "code",
   "execution_count": 71,
   "id": "eaa8fcf0-f795-46b1-8255-8b7bdaa033ad",
   "metadata": {},
   "outputs": [],
   "source": [
    "# dollars per pound\n",
    "\n",
    "prices = [ # Azure Standard (organic)\n",
    "    ['Wheat, hard red winter',0.82],\n",
    "    ['Wheat, soft white',0.66],\n",
    "    ['Popcorn, low fat and sodium, microwave',1.23],\n",
    "    ['Barley, hulled',0.76],\n",
    "    ['Millet, raw',1.54],\n",
    "    ['Corn grain, white',0.82],\n",
    "    ['Oats',0.80],\n",
    "        # Other\n",
    "    ['Egg, fresh, raw, whole',1.50],     # one dozen is roughly 2lbs, at $2.99/dz\n",
    "    ['Beef, raw, 93% lean meat / 7% fat, ground',4.50],     # personal, price per pound of grass-fed cow hanging weight bought June 2023\n",
    "]"
   ]
  },
  {
   "cell_type": "code",
   "execution_count": 74,
   "id": "b1ca848c-7ef8-4d91-a7be-2329a69dfbda",
   "metadata": {},
   "outputs": [
    {
     "data": {
      "text/html": [
       "<div>\n",
       "<style scoped>\n",
       "    .dataframe tbody tr th:only-of-type {\n",
       "        vertical-align: middle;\n",
       "    }\n",
       "\n",
       "    .dataframe tbody tr th {\n",
       "        vertical-align: top;\n",
       "    }\n",
       "\n",
       "    .dataframe thead th {\n",
       "        text-align: right;\n",
       "    }\n",
       "</style>\n",
       "<table border=\"1\" class=\"dataframe\">\n",
       "  <thead>\n",
       "    <tr style=\"text-align: right;\">\n",
       "      <th></th>\n",
       "      <th>name</th>\n",
       "      <th>RetailPrice</th>\n",
       "    </tr>\n",
       "  </thead>\n",
       "  <tbody>\n",
       "    <tr>\n",
       "      <th>0</th>\n",
       "      <td>Wheat, hard red winter</td>\n",
       "      <td>0.82</td>\n",
       "    </tr>\n",
       "    <tr>\n",
       "      <th>1</th>\n",
       "      <td>Wheat, soft white</td>\n",
       "      <td>0.66</td>\n",
       "    </tr>\n",
       "    <tr>\n",
       "      <th>2</th>\n",
       "      <td>Popcorn, low fat and sodium, microwave</td>\n",
       "      <td>1.23</td>\n",
       "    </tr>\n",
       "    <tr>\n",
       "      <th>3</th>\n",
       "      <td>Barley, hulled</td>\n",
       "      <td>0.76</td>\n",
       "    </tr>\n",
       "    <tr>\n",
       "      <th>4</th>\n",
       "      <td>Millet, raw</td>\n",
       "      <td>1.54</td>\n",
       "    </tr>\n",
       "    <tr>\n",
       "      <th>5</th>\n",
       "      <td>Corn grain, white</td>\n",
       "      <td>0.82</td>\n",
       "    </tr>\n",
       "    <tr>\n",
       "      <th>6</th>\n",
       "      <td>Oats</td>\n",
       "      <td>0.80</td>\n",
       "    </tr>\n",
       "    <tr>\n",
       "      <th>7</th>\n",
       "      <td>Egg, fresh, raw, whole</td>\n",
       "      <td>1.50</td>\n",
       "    </tr>\n",
       "    <tr>\n",
       "      <th>8</th>\n",
       "      <td>Beef, raw, 93% lean meat / 7% fat, ground</td>\n",
       "      <td>4.50</td>\n",
       "    </tr>\n",
       "  </tbody>\n",
       "</table>\n",
       "</div>"
      ],
      "text/plain": [
       "                                        name  RetailPrice\n",
       "0                     Wheat, hard red winter         0.82\n",
       "1                          Wheat, soft white         0.66\n",
       "2     Popcorn, low fat and sodium, microwave         1.23\n",
       "3                             Barley, hulled         0.76\n",
       "4                                Millet, raw         1.54\n",
       "5                          Corn grain, white         0.82\n",
       "6                                       Oats         0.80\n",
       "7                     Egg, fresh, raw, whole         1.50\n",
       "8  Beef, raw, 93% lean meat / 7% fat, ground         4.50"
      ]
     },
     "execution_count": 74,
     "metadata": {},
     "output_type": "execute_result"
    }
   ],
   "source": [
    "df = pd.DataFrame(prices,columns=['name','RetailPrice'])\n",
    "df"
   ]
  },
  {
   "cell_type": "code",
   "execution_count": 75,
   "id": "9158c02d-497f-49ff-a93f-6d1dbb2749e3",
   "metadata": {},
   "outputs": [],
   "source": [
    "df.to_csv('manual_prices.csv')"
   ]
  }
 ],
 "metadata": {
  "kernelspec": {
   "display_name": "Python 3 (ipykernel)",
   "language": "python",
   "name": "python3"
  },
  "language_info": {
   "codemirror_mode": {
    "name": "ipython",
    "version": 3
   },
   "file_extension": ".py",
   "mimetype": "text/x-python",
   "name": "python",
   "nbconvert_exporter": "python",
   "pygments_lexer": "ipython3",
   "version": "3.9.13"
  }
 },
 "nbformat": 4,
 "nbformat_minor": 5
}
